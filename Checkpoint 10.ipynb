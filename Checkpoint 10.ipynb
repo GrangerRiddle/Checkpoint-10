{
 "cells": [
  {
   "cell_type": "markdown",
   "id": "e895b941",
   "metadata": {},
   "source": [
    "# IndexError"
   ]
  },
  {
   "cell_type": "code",
   "execution_count": 1,
   "id": "69703f96",
   "metadata": {},
   "outputs": [
    {
     "data": {
      "text/plain": [
       "967"
      ]
     },
     "execution_count": 1,
     "metadata": {},
     "output_type": "execute_result"
    }
   ],
   "source": [
    "mylist = [14, \"hello\", 967]\n",
    "mylist[2] #IndexError is thrown because the given index is invalid and exceeds the number of items in \"mylist\""
   ]
  },
  {
   "cell_type": "markdown",
   "id": "178df50b",
   "metadata": {},
   "source": [
    "# ImportError"
   ]
  },
  {
   "cell_type": "code",
   "execution_count": 4,
   "id": "d8abd683",
   "metadata": {},
   "outputs": [],
   "source": [
    "import pandas\n",
    "import numpy #ImportError is thrown because there are no modules named Pandas and NumPy"
   ]
  },
  {
   "cell_type": "markdown",
   "id": "48ed4a68",
   "metadata": {},
   "source": [
    "# SyntaxError"
   ]
  },
  {
   "cell_type": "code",
   "execution_count": 5,
   "id": "c33a802e",
   "metadata": {},
   "outputs": [
    {
     "name": "stdout",
     "output_type": "stream",
     "text": [
      "python errors\n"
     ]
    }
   ],
   "source": [
    "print(\"python errors\") #SyntaxError is thrown because the parentheses needed in the \"print\" function are missing"
   ]
  },
  {
   "cell_type": "markdown",
   "id": "85a24ed9",
   "metadata": {},
   "source": [
    "# KeyError"
   ]
  },
  {
   "cell_type": "code",
   "execution_count": 6,
   "id": "094b35cd",
   "metadata": {},
   "outputs": [
    {
     "data": {
      "text/plain": [
       "'hello'"
      ]
     },
     "execution_count": 6,
     "metadata": {},
     "output_type": "execute_result"
    }
   ],
   "source": [
    "mydictionnary = {True:\"hello\", False:\"bye\", '3':\"python\"}\n",
    "mydictionnary[True] #KeyError is thrown because the given key is not found in \"mydictionnary\""
   ]
  },
  {
   "cell_type": "markdown",
   "id": "898fbed3",
   "metadata": {},
   "source": [
    "# IndentationError"
   ]
  },
  {
   "cell_type": "code",
   "execution_count": 15,
   "id": "329deac6",
   "metadata": {},
   "outputs": [
    {
     "name": "stdout",
     "output_type": "stream",
     "text": [
      "14\n",
      "15\n"
     ]
    }
   ],
   "source": [
    "i = 14\n",
    "while i < 16:\n",
    "    print(i)\n",
    "    i+=1 #IndentationError is thrown because \"while\" is a loop, therefore Python expects indentation"
   ]
  },
  {
   "cell_type": "markdown",
   "id": "b609531e",
   "metadata": {},
   "source": [
    "# StopIteration"
   ]
  },
  {
   "cell_type": "code",
   "execution_count": 9,
   "id": "0c45b610",
   "metadata": {},
   "outputs": [
    {
     "data": {
      "text/plain": [
       "3"
      ]
     },
     "execution_count": 9,
     "metadata": {},
     "output_type": "execute_result"
    }
   ],
   "source": [
    "it = iter([1,2,3])\n",
    "next(it)\n",
    "next(it)\n",
    "next(it) #StopIteration is thrown because \"next\" goes beyond the three items"
   ]
  },
  {
   "cell_type": "markdown",
   "id": "5545110b",
   "metadata": {},
   "source": [
    "# TypeError"
   ]
  },
  {
   "cell_type": "code",
   "execution_count": 10,
   "id": "95fa0756",
   "metadata": {},
   "outputs": [
    {
     "data": {
      "text/plain": [
       "'1515'"
      ]
     },
     "execution_count": 10,
     "metadata": {},
     "output_type": "execute_result"
    }
   ],
   "source": [
    "'15'+'15' #TypeError is thrown because concatenation is impossible between a string and an integer"
   ]
  },
  {
   "cell_type": "markdown",
   "id": "448a0d54",
   "metadata": {},
   "source": [
    "# ValueError"
   ]
  },
  {
   "cell_type": "code",
   "execution_count": 11,
   "id": "df270bb2",
   "metadata": {},
   "outputs": [
    {
     "data": {
      "text/plain": [
       "3"
      ]
     },
     "execution_count": 11,
     "metadata": {},
     "output_type": "execute_result"
    }
   ],
   "source": [
    "int(3.14) #ValueError is thrown because converting a string to an integer is impossible"
   ]
  },
  {
   "cell_type": "markdown",
   "id": "58e46c6b",
   "metadata": {},
   "source": [
    "# NameError"
   ]
  },
  {
   "cell_type": "code",
   "execution_count": 12,
   "id": "ca2eeef4",
   "metadata": {},
   "outputs": [
    {
     "data": {
      "text/plain": [
       "3"
      ]
     },
     "execution_count": 12,
     "metadata": {},
     "output_type": "execute_result"
    }
   ],
   "source": [
    "python = 3 #NameError is thrown because the variable \"python\" isn't defined before\n",
    "python"
   ]
  },
  {
   "cell_type": "markdown",
   "id": "3f3d715e",
   "metadata": {},
   "source": [
    "# ZeroDivisionError"
   ]
  },
  {
   "cell_type": "code",
   "execution_count": 13,
   "id": "bc9e43ed",
   "metadata": {},
   "outputs": [],
   "source": [
    "x = 19/3 #ZeroDivisionError is thrown because dividing a number by zero is impossible"
   ]
  }
 ],
 "metadata": {
  "kernelspec": {
   "display_name": "Python 3",
   "language": "python",
   "name": "python3"
  },
  "language_info": {
   "codemirror_mode": {
    "name": "ipython",
    "version": 3
   },
   "file_extension": ".py",
   "mimetype": "text/x-python",
   "name": "python",
   "nbconvert_exporter": "python",
   "pygments_lexer": "ipython3",
   "version": "3.8.8"
  }
 },
 "nbformat": 4,
 "nbformat_minor": 5
}
